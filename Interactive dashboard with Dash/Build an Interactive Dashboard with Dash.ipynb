{
 "cells": [
  {
   "cell_type": "code",
   "execution_count": 1,
   "id": "4ff3c9fa-0128-4bf9-a7e5-b103490ab224",
   "metadata": {
    "tags": []
   },
   "outputs": [
    {
     "name": "stdout",
     "output_type": "stream",
     "text": [
      "Defaulting to user installation because normal site-packages is not writeable\n",
      "Requirement already satisfied: plotly in f:\\anaconda\\lib\\site-packages (5.9.0)\n",
      "Requirement already satisfied: tenacity>=6.2.0 in f:\\anaconda\\lib\\site-packages (from plotly) (8.2.2)\n",
      "Defaulting to user installation because normal site-packages is not writeable\n",
      "Requirement already satisfied: dash in c:\\users\\laptop-acasdemy.com\\appdata\\roaming\\python\\python311\\site-packages (2.15.0)\n",
      "Requirement already satisfied: Flask<3.1,>=1.0.4 in f:\\anaconda\\lib\\site-packages (from dash) (2.2.2)\n",
      "Requirement already satisfied: Werkzeug<3.1 in f:\\anaconda\\lib\\site-packages (from dash) (2.2.3)\n",
      "Requirement already satisfied: plotly>=5.0.0 in f:\\anaconda\\lib\\site-packages (from dash) (5.9.0)\n",
      "Requirement already satisfied: dash-html-components==2.0.0 in c:\\users\\laptop-acasdemy.com\\appdata\\roaming\\python\\python311\\site-packages (from dash) (2.0.0)\n",
      "Requirement already satisfied: dash-core-components==2.0.0 in c:\\users\\laptop-acasdemy.com\\appdata\\roaming\\python\\python311\\site-packages (from dash) (2.0.0)\n",
      "Requirement already satisfied: dash-table==5.0.0 in c:\\users\\laptop-acasdemy.com\\appdata\\roaming\\python\\python311\\site-packages (from dash) (5.0.0)\n",
      "Requirement already satisfied: typing-extensions>=4.1.1 in f:\\anaconda\\lib\\site-packages (from dash) (4.7.1)\n",
      "Requirement already satisfied: requests in f:\\anaconda\\lib\\site-packages (from dash) (2.31.0)\n",
      "Requirement already satisfied: retrying in c:\\users\\laptop-acasdemy.com\\appdata\\roaming\\python\\python311\\site-packages (from dash) (1.3.4)\n",
      "Requirement already satisfied: nest-asyncio in f:\\anaconda\\lib\\site-packages (from dash) (1.5.6)\n",
      "Requirement already satisfied: setuptools in f:\\anaconda\\lib\\site-packages (from dash) (68.0.0)\n",
      "Requirement already satisfied: importlib-metadata in f:\\anaconda\\lib\\site-packages (from dash) (6.0.0)\n",
      "Requirement already satisfied: Jinja2>=3.0 in f:\\anaconda\\lib\\site-packages (from Flask<3.1,>=1.0.4->dash) (3.1.2)\n",
      "Requirement already satisfied: itsdangerous>=2.0 in f:\\anaconda\\lib\\site-packages (from Flask<3.1,>=1.0.4->dash) (2.0.1)\n",
      "Requirement already satisfied: click>=8.0 in f:\\anaconda\\lib\\site-packages (from Flask<3.1,>=1.0.4->dash) (8.0.4)\n",
      "Requirement already satisfied: tenacity>=6.2.0 in f:\\anaconda\\lib\\site-packages (from plotly>=5.0.0->dash) (8.2.2)\n",
      "Requirement already satisfied: MarkupSafe>=2.1.1 in f:\\anaconda\\lib\\site-packages (from Werkzeug<3.1->dash) (2.1.1)\n",
      "Requirement already satisfied: zipp>=0.5 in f:\\anaconda\\lib\\site-packages (from importlib-metadata->dash) (3.11.0)\n",
      "Requirement already satisfied: charset-normalizer<4,>=2 in f:\\anaconda\\lib\\site-packages (from requests->dash) (2.0.4)\n",
      "Requirement already satisfied: idna<4,>=2.5 in f:\\anaconda\\lib\\site-packages (from requests->dash) (3.4)\n",
      "Requirement already satisfied: urllib3<3,>=1.21.1 in f:\\anaconda\\lib\\site-packages (from requests->dash) (1.26.16)\n",
      "Requirement already satisfied: certifi>=2017.4.17 in f:\\anaconda\\lib\\site-packages (from requests->dash) (2023.7.22)\n",
      "Requirement already satisfied: six>=1.7.0 in f:\\anaconda\\lib\\site-packages (from retrying->dash) (1.16.0)\n",
      "Requirement already satisfied: colorama in f:\\anaconda\\lib\\site-packages (from click>=8.0->Flask<3.1,>=1.0.4->dash) (0.4.6)\n"
     ]
    }
   ],
   "source": [
    "import pandas as pd\n",
    "!pip install plotly\n",
    "!pip install dash\n",
    "import plotly.express as px\n",
    "import dash\n",
    "from dash import dcc, html\n",
    "from dash.dependencies import Input, Output\n",
    "\n"
   ]
  },
  {
   "cell_type": "code",
   "execution_count": 63,
   "id": "2ae19915-59aa-45ac-a1ff-4f02a6844a23",
   "metadata": {
    "tags": []
   },
   "outputs": [],
   "source": [
    "spacex_df = pd.read_csv(\"https://cf-courses-data.s3.us.cloud-object-storage.appdomain.cloud/IBM-DS0321EN-SkillsNetwork/datasets/spacex_launch_dash.csv\")\n",
    "max_payload = spacex_df['Payload Mass (kg)'].max()\n",
    "min_payload = spacex_df['Payload Mass (kg)'].min()"
   ]
  },
  {
   "cell_type": "code",
   "execution_count": 97,
   "id": "27fa2acf-7cc5-4162-a824-4ae872b01f64",
   "metadata": {
    "tags": []
   },
   "outputs": [
    {
     "data": {
      "text/html": [
       "\n",
       "        <iframe\n",
       "            width=\"100%\"\n",
       "            height=\"650\"\n",
       "            src=\"http://127.0.0.1:8093/\"\n",
       "            frameborder=\"0\"\n",
       "            allowfullscreen\n",
       "            \n",
       "        ></iframe>\n",
       "        "
      ],
      "text/plain": [
       "<IPython.lib.display.IFrame at 0x2036fc6f8d0>"
      ]
     },
     "metadata": {},
     "output_type": "display_data"
    }
   ],
   "source": [
    "\n",
    "app = dash.Dash(__name__)\n",
    "app.layout = html.Div(children = [\n",
    "    html.H1('SpaceX Launch Records Dashboard',\n",
    "                                        style={'textAlign': 'center', 'color': '#503D36',\n",
    "                                               'font-size': 40, 'font-family': 'Arial'}),\n",
    "    dcc.Dropdown(id = 'site-dropdown', options = [\n",
    "        {'label': 'All Sites', 'value': 'All'},\n",
    "        {'label': 'CCAFS LC-40', 'value': 'CCAFS LC-40'},\n",
    "        {'label': 'VAFB SLC-4E', 'value': 'VAFB SLC-4E'},\n",
    "        {'label': 'KSC LC-39A', 'value': 'KSC LC-39A'},\n",
    "        {'label': 'CCAFS SLC-40', 'value': 'CCAFS SLC-40'}\n",
    "    ],\n",
    "                 value = 'All', placeholder = 'place holder here', searchable=True,\n",
    "                 style= {'width': '80%', 'padding': '3px', 'text-size': '20px', 'textAlign': 'center', 'font-family': 'Arial'}\n",
    "    ),\n",
    "    html.Br(),\n",
    "    html.Div(dcc.Graph(id = 'success-pie-chart')\n",
    "    ),\n",
    "    html.P(\"Payload range (Kg):\", style = {'font-family': 'Arial'}),\n",
    "    dcc.RangeSlider(id='payload-slider', min = min_payload, max = max_payload, step= 1000, value = [min_payload, max_payload]\n",
    "    ),\n",
    "    html.Div(dcc.Graph(id = 'success-payload-scatter-chart')\n",
    "    )\n",
    "])\n",
    "\n",
    "@app.callback(\n",
    "    Output(component_id = 'success-pie-chart', component_property='figure'),\n",
    "    Input(component_id = 'site-dropdown', component_property = 'value')\n",
    ")\n",
    "\n",
    "def get_pie_chart(entered_site):\n",
    "    if entered_site == 'All':\n",
    "        data1 = spacex_df[spacex_df['class'] ==1].groupby('Launch Site').sum().reset_index()\n",
    "        output =  px.pie(data1, values = 'class', names = 'Launch Site', title = 'Total Success Launches by Site')\n",
    "        return output\n",
    "    else:\n",
    "        data2 = spacex_df[spacex_df['Launch Site'] == entered_site].reset_index()\n",
    "        for i,e in enumerate(data2['class']):\n",
    "            if e == 0:\n",
    "                data2.loc[i,'total'] = data2['class'].value_counts()[0]\n",
    "            else:\n",
    "                data2.loc[i,'total'] = data2['class'].value_counts()[1]\n",
    "\n",
    "        data2 = data2.groupby('class')['total'].mean().reset_index()\n",
    "        output = px.pie(data2, values = 'total', names= 'class', title = 'Total Success Launches for Site {}'.format(entered_site))\n",
    "        return output\n",
    "    \n",
    "@app.callback(\n",
    "    Output(component_id = 'success-payload-scatter-chart', component_property='figure'),\n",
    "    [Input(component_id = 'site-dropdown', component_property = 'value'),\n",
    "     Input(component_id='payload-slider', component_property = 'value')]\n",
    ")\n",
    "\n",
    "def get_scatter_chart(input1, input2):\n",
    "    new = spacex_df.copy()\n",
    "    for i,e in enumerate(new['Payload Mass (kg)']):\n",
    "        if e in range(input2[0], input2[1]):\n",
    "            new.loc[i,'within'] = True\n",
    "        else:\n",
    "            new.loc[i,'within'] = False\n",
    "    new2 = new[new['within'] == True].reset_index()\n",
    "    if input1 == 'All':\n",
    "        output = px.scatter(new2, x = 'Payload Mass (kg)', y = 'class', color=\"Booster Version Category\",\n",
    "                    title = 'correlation between Payload and success for All Sites', range_x = [-700,10500], range_y = [-0.1,1.2])\n",
    "        return output\n",
    "    else:\n",
    "        data = new2[new2['Launch Site'] == input1]\n",
    "        output = px.scatter(data, x = 'Payload Mass (kg)', y = 'class', color=\"Booster Version Category\",\n",
    "                    title = 'correlation between Payload and success for Site {}'.format(input1), range_x = [-700,10500], range_y = [-0.1,1.2])\n",
    "        return output\n",
    "\n",
    "if __name__ == '__main__':\n",
    "    app.run_server(port = 8093)                           \n",
    "            "
   ]
  },
  {
   "cell_type": "code",
   "execution_count": null,
   "id": "d754fa22-4c97-4338-897f-93a398c00306",
   "metadata": {},
   "outputs": [],
   "source": []
  }
 ],
 "metadata": {
  "kernelspec": {
   "display_name": "Python 3 (ipykernel)",
   "language": "python",
   "name": "python3"
  },
  "language_info": {
   "codemirror_mode": {
    "name": "ipython",
    "version": 3
   },
   "file_extension": ".py",
   "mimetype": "text/x-python",
   "name": "python",
   "nbconvert_exporter": "python",
   "pygments_lexer": "ipython3",
   "version": "3.11.5"
  }
 },
 "nbformat": 4,
 "nbformat_minor": 5
}
